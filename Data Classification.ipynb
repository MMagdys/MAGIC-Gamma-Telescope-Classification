{
 "cells": [
  {
   "cell_type": "markdown",
   "metadata": {},
   "source": [
    "# Data Classification\n",
    "The MAGIC gamma telescope dataset:\n",
    "https://archive.ics.uci.edu/ml/datasets/MAGIC+Gamma+Telescope, it generated to simulate\n",
    "registration of high energy gamma particles in a ground-based atmospheric Cherenkov gamma\n",
    "telescope using the imaging technique allowing to discriminate statistically the information\n",
    "caused by primary gammas (signal) from the images of hadronic showers\n",
    "initiated by cosmic rays in the upper atmosphere (background).\n",
    "It is required to investigate the data deeper, split into train and test data with class labels\n",
    "g = gamma (signal) and h = hadron (background). You are asked to apply preprocessing and feature\n",
    "selection techniques and construct classification models using different approaches such as Decision\n",
    "Trees, AdaBoost, K-Nearest Neighbor (K-NN) and Logistic Regression and compare the results\n",
    "between them and between with and without applying preprocessing and feature selection. Moreover,\n",
    "you should evaluate and test the classification models accuracy."
   ]
  },
  {
   "cell_type": "code",
   "execution_count": 255,
   "metadata": {},
   "outputs": [],
   "source": [
    "import numpy as np\n",
    "import pandas as pd\n",
    "import matplotlib.pyplot as plt\n",
    "import seaborn as sns\n",
    "\n",
    "from sklearn import preprocessing\n",
    "from sklearn.model_selection import train_test_split\n",
    "from sklearn.neighbors import KNeighborsClassifier\n",
    "from sklearn.linear_model import LogisticRegression\n",
    "from sklearn.ensemble import RandomForestClassifier,AdaBoostClassifier\n",
    "from sklearn.naive_bayes import GaussianNB\n",
    "from sklearn.metrics import roc_curve, auc, precision_recall_fscore_support\n",
    "from sklearn.feature_selection import SelectKBest\n",
    "from sklearn.feature_selection import chi2, f_classif"
   ]
  },
  {
   "cell_type": "markdown",
   "metadata": {},
   "source": [
    "1. fLength: continuous # major axis of ellipse [mm] \n",
    "2. fWidth: continuous # minor axis of ellipse [mm] \n",
    "3. fSize: continuous # 10-log of sum of content of all pixels [in #phot] \n",
    "4. fConc: continuous # ratio of sum of two highest pixels over fSize [ratio] \n",
    "5. fConc1: continuous # ratio of highest pixel over fSize [ratio] \n",
    "6. fAsym: continuous # distance from highest pixel to center, projected onto major axis [mm] \n",
    "7. fM3Long: continuous # 3rd root of third moment along major axis [mm] \n",
    "8. fM3Trans: continuous # 3rd root of third moment along minor axis [mm] \n",
    "9. fAlpha: continuous # angle of major axis with vector to origin [deg] \n",
    "10. fDist: continuous # distance from origin to center of ellipse [mm] \n",
    "11. class: g,h # gamma (signal), hadron (background) \n",
    "\n",
    "g = gamma (signal): 12332 \n",
    "h = hadron (background): 6688 \n"
   ]
  },
  {
   "cell_type": "code",
   "execution_count": 256,
   "metadata": {
    "scrolled": true
   },
   "outputs": [
    {
     "data": {
      "text/html": [
       "<div>\n",
       "<style scoped>\n",
       "    .dataframe tbody tr th:only-of-type {\n",
       "        vertical-align: middle;\n",
       "    }\n",
       "\n",
       "    .dataframe tbody tr th {\n",
       "        vertical-align: top;\n",
       "    }\n",
       "\n",
       "    .dataframe thead th {\n",
       "        text-align: right;\n",
       "    }\n",
       "</style>\n",
       "<table border=\"1\" class=\"dataframe\">\n",
       "  <thead>\n",
       "    <tr style=\"text-align: right;\">\n",
       "      <th></th>\n",
       "      <th>fLength</th>\n",
       "      <th>fWidth</th>\n",
       "      <th>fSize</th>\n",
       "      <th>fConc</th>\n",
       "      <th>fConc1</th>\n",
       "      <th>fAsym</th>\n",
       "      <th>fM3Long</th>\n",
       "      <th>fM3Trans</th>\n",
       "      <th>fAlpha</th>\n",
       "      <th>fDist</th>\n",
       "      <th>class</th>\n",
       "    </tr>\n",
       "  </thead>\n",
       "  <tbody>\n",
       "    <tr>\n",
       "      <th>0</th>\n",
       "      <td>28.7967</td>\n",
       "      <td>16.0021</td>\n",
       "      <td>2.6449</td>\n",
       "      <td>0.3918</td>\n",
       "      <td>0.1982</td>\n",
       "      <td>27.7004</td>\n",
       "      <td>22.0110</td>\n",
       "      <td>-8.2027</td>\n",
       "      <td>40.0920</td>\n",
       "      <td>81.8828</td>\n",
       "      <td>g</td>\n",
       "    </tr>\n",
       "    <tr>\n",
       "      <th>1</th>\n",
       "      <td>31.6036</td>\n",
       "      <td>11.7235</td>\n",
       "      <td>2.5185</td>\n",
       "      <td>0.5303</td>\n",
       "      <td>0.3773</td>\n",
       "      <td>26.2722</td>\n",
       "      <td>23.8238</td>\n",
       "      <td>-9.9574</td>\n",
       "      <td>6.3609</td>\n",
       "      <td>205.2610</td>\n",
       "      <td>g</td>\n",
       "    </tr>\n",
       "    <tr>\n",
       "      <th>2</th>\n",
       "      <td>162.0520</td>\n",
       "      <td>136.0310</td>\n",
       "      <td>4.0612</td>\n",
       "      <td>0.0374</td>\n",
       "      <td>0.0187</td>\n",
       "      <td>116.7410</td>\n",
       "      <td>-64.8580</td>\n",
       "      <td>-45.2160</td>\n",
       "      <td>76.9600</td>\n",
       "      <td>256.7880</td>\n",
       "      <td>g</td>\n",
       "    </tr>\n",
       "    <tr>\n",
       "      <th>3</th>\n",
       "      <td>23.8172</td>\n",
       "      <td>9.5728</td>\n",
       "      <td>2.3385</td>\n",
       "      <td>0.6147</td>\n",
       "      <td>0.3922</td>\n",
       "      <td>27.2107</td>\n",
       "      <td>-6.4633</td>\n",
       "      <td>-7.1513</td>\n",
       "      <td>10.4490</td>\n",
       "      <td>116.7370</td>\n",
       "      <td>g</td>\n",
       "    </tr>\n",
       "    <tr>\n",
       "      <th>4</th>\n",
       "      <td>75.1362</td>\n",
       "      <td>30.9205</td>\n",
       "      <td>3.1611</td>\n",
       "      <td>0.3168</td>\n",
       "      <td>0.1832</td>\n",
       "      <td>-5.5277</td>\n",
       "      <td>28.5525</td>\n",
       "      <td>21.8393</td>\n",
       "      <td>4.6480</td>\n",
       "      <td>356.4620</td>\n",
       "      <td>g</td>\n",
       "    </tr>\n",
       "  </tbody>\n",
       "</table>\n",
       "</div>"
      ],
      "text/plain": [
       "    fLength    fWidth   fSize   fConc  fConc1     fAsym  fM3Long  fM3Trans  \\\n",
       "0   28.7967   16.0021  2.6449  0.3918  0.1982   27.7004  22.0110   -8.2027   \n",
       "1   31.6036   11.7235  2.5185  0.5303  0.3773   26.2722  23.8238   -9.9574   \n",
       "2  162.0520  136.0310  4.0612  0.0374  0.0187  116.7410 -64.8580  -45.2160   \n",
       "3   23.8172    9.5728  2.3385  0.6147  0.3922   27.2107  -6.4633   -7.1513   \n",
       "4   75.1362   30.9205  3.1611  0.3168  0.1832   -5.5277  28.5525   21.8393   \n",
       "\n",
       "    fAlpha     fDist class  \n",
       "0  40.0920   81.8828     g  \n",
       "1   6.3609  205.2610     g  \n",
       "2  76.9600  256.7880     g  \n",
       "3  10.4490  116.7370     g  \n",
       "4   4.6480  356.4620     g  "
      ]
     },
     "execution_count": 256,
     "metadata": {},
     "output_type": "execute_result"
    }
   ],
   "source": [
    "col_names = ['fLength', 'fWidth', 'fSize', 'fConc', 'fConc1', 'fAsym',  'fM3Long', 'fM3Trans', 'fAlpha', 'fDist', 'class']\n",
    "feature_names = ['fLength', 'fWidth', 'fSize', 'fConc', 'fConc1', 'fAsym',  'fM3Long', 'fM3Trans', 'fAlpha', 'fDist']\n",
    "data = pd.read_csv(\"magic04.data\", names=col_names)\n",
    "X = data[feature_names]\n",
    "Y = data['class']\n",
    "data.head()"
   ]
  },
  {
   "cell_type": "markdown",
   "metadata": {},
   "source": [
    "## Without Preprocessing or feature selection"
   ]
  },
  {
   "cell_type": "code",
   "execution_count": 244,
   "metadata": {},
   "outputs": [
    {
     "data": {
      "text/html": [
       "<div>\n",
       "<style scoped>\n",
       "    .dataframe tbody tr th:only-of-type {\n",
       "        vertical-align: middle;\n",
       "    }\n",
       "\n",
       "    .dataframe tbody tr th {\n",
       "        vertical-align: top;\n",
       "    }\n",
       "\n",
       "    .dataframe thead th {\n",
       "        text-align: right;\n",
       "    }\n",
       "</style>\n",
       "<table border=\"1\" class=\"dataframe\">\n",
       "  <thead>\n",
       "    <tr style=\"text-align: right;\">\n",
       "      <th></th>\n",
       "      <th>fLength</th>\n",
       "      <th>fWidth</th>\n",
       "      <th>fSize</th>\n",
       "      <th>fConc</th>\n",
       "      <th>fConc1</th>\n",
       "      <th>fAsym</th>\n",
       "      <th>fM3Long</th>\n",
       "      <th>fM3Trans</th>\n",
       "      <th>fAlpha</th>\n",
       "      <th>fDist</th>\n",
       "    </tr>\n",
       "  </thead>\n",
       "  <tbody>\n",
       "    <tr>\n",
       "      <th>16380</th>\n",
       "      <td>76.2773</td>\n",
       "      <td>28.4018</td>\n",
       "      <td>2.8880</td>\n",
       "      <td>0.4118</td>\n",
       "      <td>0.2128</td>\n",
       "      <td>68.0222</td>\n",
       "      <td>56.0183</td>\n",
       "      <td>24.7618</td>\n",
       "      <td>11.8216</td>\n",
       "      <td>303.9442</td>\n",
       "    </tr>\n",
       "    <tr>\n",
       "      <th>8647</th>\n",
       "      <td>27.5042</td>\n",
       "      <td>17.6334</td>\n",
       "      <td>2.4541</td>\n",
       "      <td>0.3445</td>\n",
       "      <td>0.1740</td>\n",
       "      <td>-6.0405</td>\n",
       "      <td>7.7084</td>\n",
       "      <td>-16.0424</td>\n",
       "      <td>31.2800</td>\n",
       "      <td>159.2780</td>\n",
       "    </tr>\n",
       "    <tr>\n",
       "      <th>3531</th>\n",
       "      <td>26.1702</td>\n",
       "      <td>17.3918</td>\n",
       "      <td>2.6299</td>\n",
       "      <td>0.3775</td>\n",
       "      <td>0.2145</td>\n",
       "      <td>3.3366</td>\n",
       "      <td>23.0898</td>\n",
       "      <td>-16.6961</td>\n",
       "      <td>73.1700</td>\n",
       "      <td>43.7272</td>\n",
       "    </tr>\n",
       "    <tr>\n",
       "      <th>3703</th>\n",
       "      <td>51.3155</td>\n",
       "      <td>11.5980</td>\n",
       "      <td>2.4166</td>\n",
       "      <td>0.4713</td>\n",
       "      <td>0.2510</td>\n",
       "      <td>-70.1741</td>\n",
       "      <td>20.7189</td>\n",
       "      <td>-11.2107</td>\n",
       "      <td>8.8813</td>\n",
       "      <td>271.0590</td>\n",
       "    </tr>\n",
       "    <tr>\n",
       "      <th>5493</th>\n",
       "      <td>67.8749</td>\n",
       "      <td>23.5976</td>\n",
       "      <td>3.4861</td>\n",
       "      <td>0.2237</td>\n",
       "      <td>0.1135</td>\n",
       "      <td>54.1529</td>\n",
       "      <td>68.0549</td>\n",
       "      <td>-12.3682</td>\n",
       "      <td>0.5050</td>\n",
       "      <td>174.1570</td>\n",
       "    </tr>\n",
       "  </tbody>\n",
       "</table>\n",
       "</div>"
      ],
      "text/plain": [
       "       fLength   fWidth   fSize   fConc  fConc1    fAsym  fM3Long  fM3Trans  \\\n",
       "16380  76.2773  28.4018  2.8880  0.4118  0.2128  68.0222  56.0183   24.7618   \n",
       "8647   27.5042  17.6334  2.4541  0.3445  0.1740  -6.0405   7.7084  -16.0424   \n",
       "3531   26.1702  17.3918  2.6299  0.3775  0.2145   3.3366  23.0898  -16.6961   \n",
       "3703   51.3155  11.5980  2.4166  0.4713  0.2510 -70.1741  20.7189  -11.2107   \n",
       "5493   67.8749  23.5976  3.4861  0.2237  0.1135  54.1529  68.0549  -12.3682   \n",
       "\n",
       "        fAlpha     fDist  \n",
       "16380  11.8216  303.9442  \n",
       "8647   31.2800  159.2780  \n",
       "3531   73.1700   43.7272  \n",
       "3703    8.8813  271.0590  \n",
       "5493    0.5050  174.1570  "
      ]
     },
     "execution_count": 244,
     "metadata": {},
     "output_type": "execute_result"
    }
   ],
   "source": [
    "X_train, X_test, Y_train, Y_test = train_test_split(X, Y, train_size=0.7)\n",
    "X_train.head()\n",
    "# print(X.shape)"
   ]
  },
  {
   "cell_type": "code",
   "execution_count": 246,
   "metadata": {},
   "outputs": [
    {
     "name": "stdout",
     "output_type": "stream",
     "text": [
      "Number of mislabeled points 3647 out of 13314 total points.\n",
      "For model accuracy = 0.7295828951980372\n"
     ]
    },
    {
     "data": {
      "text/plain": [
       "(array([0.72845784, 0.71577262]),\n",
       " array([0.91733613, 0.3784127 ]),\n",
       " array([0.81205875, 0.49508514]),\n",
       " array([8589, 4725]))"
      ]
     },
     "execution_count": 246,
     "metadata": {},
     "output_type": "execute_result"
    }
   ],
   "source": [
    "model = GaussianNB()\n",
    "y_pred = model.fit(X_train, Y_train).predict(X_train)\n",
    "\n",
    "print(\"Number of mislabeled points %d out of %d total points.\"% ((Y_train != y_pred).sum(), X_train.shape[0]))\n",
    "\n",
    "probs = model.predict_proba(X_test)\n",
    "print('For model', 'accuracy =', model.score(X_test,Y_test))\n",
    "\n",
    "# plt.plot(fpr, tpr, label='%s (area = %0.2f)' % (name, roc_auc))\n",
    "precision_recall_fscore_support(Y_train, y_pred)\n",
    "# plt.plot(fpr, tpr, label='%s (area = %0.2f)' % (name, roc_auc))\n",
    "# print(X.shape)"
   ]
  },
  {
   "cell_type": "markdown",
   "metadata": {},
   "source": [
    "## With Preprocessing and feature selection"
   ]
  },
  {
   "cell_type": "code",
   "execution_count": 249,
   "metadata": {},
   "outputs": [],
   "source": [
    "def best_k(X):\n",
    "    err = X.shape[0]\n",
    "    best_val = 2\n",
    "    \n",
    "    for i in range(1, X.shape[1]):\n",
    "    \n",
    "        X_new = SelectKBest(f_classif, k=i).fit_transform(X, Y)\n",
    "        model = GaussianNB()\n",
    "        y_pred = model.fit(X_new, Y).predict(X_new)\n",
    "        num = (Y != y_pred).sum()\n",
    "        if num < err :\n",
    "            err = num\n",
    "            best_val = i\n",
    "    \n",
    "    return best_val"
   ]
  },
  {
   "cell_type": "code",
   "execution_count": 253,
   "metadata": {},
   "outputs": [
    {
     "name": "stdout",
     "output_type": "stream",
     "text": [
      "Number of mislabeled points 3102 out of 13314 total points.\n",
      "For model accuracy = 0.7600771118121276\n"
     ]
    },
    {
     "data": {
      "text/plain": [
       "(array([0.78052955, 0.72729962]),\n",
       " array([0.89371758, 0.53007114]),\n",
       " array([0.83329751, 0.61321696]),\n",
       " array([8675, 4639]))"
      ]
     },
     "execution_count": 253,
     "metadata": {},
     "output_type": "execute_result"
    }
   ],
   "source": [
    "# print(X.shape)\n",
    "X = preprocessing.StandardScaler().fit_transform(X)\n",
    "K = best_k(X)\n",
    "# print(K)\n",
    "\n",
    "X_new = SelectKBest(f_classif, k=K).fit_transform(X, Y)\n",
    "X_train, X_test, Y_train, Y_test = train_test_split(X_new, Y, train_size=0.7)\n",
    "\n",
    "model = GaussianNB()\n",
    "model.fit(X_train, Y_train)\n",
    "y_pred = model.predict(X_train)\n",
    "print(\"Number of mislabeled points %d out of %d total points.\"% ((Y_train != y_pred).sum(), X_train.shape[0]))\n",
    "\n",
    "probs = model.predict_proba(X_test)\n",
    "print('For model', 'accuracy =', model.score(X_test,Y_test))\n",
    "\n",
    "# # # plt.plot(fpr, tpr, label='%s (area = %0.2f)' % (name, roc_auc))\n",
    "precision_recall_fscore_support(Y_train, y_pred)"
   ]
  },
  {
   "cell_type": "code",
   "execution_count": null,
   "metadata": {},
   "outputs": [],
   "source": []
  }
 ],
 "metadata": {
  "kernelspec": {
   "display_name": "Python 3",
   "language": "python",
   "name": "python3"
  },
  "language_info": {
   "codemirror_mode": {
    "name": "ipython",
    "version": 3
   },
   "file_extension": ".py",
   "mimetype": "text/x-python",
   "name": "python",
   "nbconvert_exporter": "python",
   "pygments_lexer": "ipython3",
   "version": "3.7.3"
  }
 },
 "nbformat": 4,
 "nbformat_minor": 2
}
